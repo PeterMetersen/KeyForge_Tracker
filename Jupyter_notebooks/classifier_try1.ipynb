{
 "cells": [
  {
   "cell_type": "code",
   "execution_count": 1,
   "metadata": {},
   "outputs": [
    {
     "name": "stdout",
     "output_type": "stream",
     "text": [
      "Populating the interactive namespace from numpy and matplotlib\n"
     ]
    }
   ],
   "source": [
    "%pylab notebook\n",
    "import cv2"
   ]
  },
  {
   "cell_type": "code",
   "execution_count": 8,
   "metadata": {},
   "outputs": [
    {
     "name": "stdout",
     "output_type": "stream",
     "text": [
      "(420, 300)\n",
      "(420, 300)\n",
      "((2.1704786210841007, 1.1907599118599421), 0.39245230498137296)\n"
     ]
    }
   ],
   "source": [
    "# IDENTIFY CARDS WITH PHASE_CORRELATION (Fourier transform based)\n",
    "src1 = cv2.imread('c:\\\\Users\\\\glocsei\\\\Documents\\\\Keyforge_Tracker_doc\\\\processed_202.jpg',0)      # load extracted image in grayscale\n",
    "# src1 = cv2.imread('c:\\\\Users\\\\glocsei\\\\Documents\\\\Keyforge_Tracker_doc\\\\templates\\\\202_shifted.jpg',0)      # this is a shifted version of the original to demonstrate the size of the response paramater for good matched \n",
    "print(src1.shape)\n",
    "src2 = cv2.imread('c:\\\\Users\\\\glocsei\\\\Documents\\\\Keyforge_Tracker_doc\\\\templates\\\\202.jpg',0)      # load template image in grayscale\n",
    "print(src2.shape)\n",
    "src1 = np.float32(src1)             # convert first into float32\n",
    "src2 = np.float32(src2)             # convert second into float32  \n",
    "ret = cv2.phaseCorrelate(src1,src2) # now calculate the phase correlation\n",
    "print(ret)\n",
    "\n",
    "# LOOK AT ret[1]. This is the so-called \"response paramater\". It's within [0 1]. The greater, the bigger the match is.\n",
    "# So one could loop through all the cards and hope that the largest value indeed belongs to the matched pair."
   ]
  }
 ],
 "metadata": {
  "kernelspec": {
   "display_name": "Python 3",
   "language": "python",
   "name": "python3"
  },
  "language_info": {
   "codemirror_mode": {
    "name": "ipython",
    "version": 3
   },
   "file_extension": ".py",
   "mimetype": "text/x-python",
   "name": "python",
   "nbconvert_exporter": "python",
   "pygments_lexer": "ipython3",
   "version": "3.6.8"
  }
 },
 "nbformat": 4,
 "nbformat_minor": 2
}
